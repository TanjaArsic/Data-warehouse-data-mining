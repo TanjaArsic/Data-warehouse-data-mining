{
 "cells": [
  {
   "cell_type": "code",
   "execution_count": 1,
   "metadata": {},
   "outputs": [],
   "source": [
    "from pyspark.sql import SparkSession\n",
    "from pyspark.sql.functions import mean, col, when, lit\n",
    "from pyspark.ml import Pipeline\n",
    "from pyspark.ml.classification import LogisticRegression, NaiveBayes, LinearSVC, DecisionTreeClassifier, RandomForestClassifier\n",
    "from pyspark.ml.tuning import ParamGridBuilder, CrossValidator\n",
    "from pyspark.ml.feature import VectorAssembler, OneHotEncoder, StringIndexer\n",
    "from pyspark.ml.evaluation import BinaryClassificationEvaluator\n",
    "from pyspark.mllib.evaluation import MulticlassMetrics\n",
    "from sklearn.metrics import classification_report, confusion_matrix\n",
    "from smote_sampling import vectorizerFunction, SmoteSampling\n",
    "import numpy as np\n",
    "import matplotlib.pyplot as plt"
   ]
  },
  {
   "cell_type": "code",
   "execution_count": 2,
   "metadata": {},
   "outputs": [
    {
     "name": "stderr",
     "output_type": "stream",
     "text": [
      "Setting default log level to \"WARN\".\n",
      "To adjust logging level use sc.setLogLevel(newLevel). For SparkR, use setLogLevel(newLevel).\n",
      "23/06/27 00:40:26 WARN NativeCodeLoader: Unable to load native-hadoop library for your platform... using builtin-java classes where applicable\n",
      "                                                                                \r"
     ]
    },
    {
     "name": "stdout",
     "output_type": "stream",
     "text": [
      "root\n",
      " |-- id: double (nullable = true)\n",
      " |-- gender: string (nullable = true)\n",
      " |-- age: double (nullable = true)\n",
      " |-- hypertension: double (nullable = true)\n",
      " |-- heart_disease: double (nullable = true)\n",
      " |-- ever_married: string (nullable = true)\n",
      " |-- work_type: string (nullable = true)\n",
      " |-- Residence_type: string (nullable = true)\n",
      " |-- avg_glucose_level: double (nullable = true)\n",
      " |-- bmi: string (nullable = true)\n",
      " |-- smoking_status: string (nullable = true)\n",
      " |-- stroke: integer (nullable = true)\n",
      "\n"
     ]
    },
    {
     "name": "stderr",
     "output_type": "stream",
     "text": [
      "23/06/27 00:40:42 WARN package: Truncated the string representation of a plan since it was too large. This behavior can be adjusted by setting 'spark.sql.debug.maxToStringFields'.\n",
      "[Stage 4:>                                                          (0 + 1) / 1]\r"
     ]
    },
    {
     "name": "stdout",
     "output_type": "stream",
     "text": [
      "+-------+------------------+------+------------------+------------------+------------------+------------+---------+--------------+------------------+-----------------+--------------+------------------+\n",
      "|summary|                id|gender|               age|      hypertension|     heart_disease|ever_married|work_type|Residence_type| avg_glucose_level|              bmi|smoking_status|            stroke|\n",
      "+-------+------------------+------+------------------+------------------+------------------+------------+---------+--------------+------------------+-----------------+--------------+------------------+\n",
      "|  count|              7575|  7575|              7575|              7575|              7575|        7575|     7575|          7575|              7575|             7575|          7575|              7575|\n",
      "|   mean|36713.244090850676|  null|51.115278859274085|0.1484313772937294|0.0992219333333334|        null|     null|          null|115.03397955656736|28.87228404875467|          null|0.3582838283828383|\n",
      "+-------+------------------+------+------------------+------------------+------------------+------------+---------+--------------+------------------+-----------------+--------------+------------------+\n",
      "only showing top 2 rows\n",
      "\n"
     ]
    },
    {
     "name": "stderr",
     "output_type": "stream",
     "text": [
      "                                                                                \r"
     ]
    }
   ],
   "source": [
    "# postavlja konfiguraciju SparkSession objekta za lokalni način rada (1 komp)\n",
    "spark = SparkSession.builder \\\n",
    "    .master(\"local\") \\\n",
    "    .appName(\"StrokePrediction\") \\\n",
    "    .config(\"spark.driver.memory\", \"4g\") \\\n",
    "    .getOrCreate()\n",
    "spark.sparkContext.setLogLevel(\"WARN\")\n",
    "dataset_df = spark.read.csv(\n",
    "    'hes_a_SMOTE_operator.csv', inferSchema=True, header=True)\n",
    "\n",
    "\n",
    "dataset_df.printSchema()\n",
    "dataset_df.describe().show(2)  # sveukupna statistika, prva 2 reda"
   ]
  },
  {
   "cell_type": "code",
   "execution_count": 3,
   "metadata": {},
   "outputs": [
    {
     "name": "stdout",
     "output_type": "stream",
     "text": [
      "+------+-----+\n",
      "|stroke|count|\n",
      "+------+-----+\n",
      "|     1| 2714|\n",
      "|     0| 4861|\n",
      "+------+-----+\n",
      "\n"
     ]
    },
    {
     "data": {
      "image/png": "[encoded data removed]",
      "text/plain": [
       "<Figure size 640x480 with 1 Axes>"
      ]
     },
     "metadata": {},
     "output_type": "display_data"
    }
   ],
   "source": [
    "dataset_df.groupby(\"stroke\").count().show()\n",
    "data = dataset_df.groupby(\"stroke\").count().collect()\n",
    "\n",
    "labels = [\"No Stroke\" if row['stroke'] == 0 else \"Stroke\" for row in data]\n",
    "counts = [row['count'] for row in data]\n",
    "\n",
    "plt.bar(labels, counts)\n",
    "\n",
    "plt.xlabel('Stroke')\n",
    "plt.ylabel('Count')\n",
    "plt.title('Stroke Data')\n",
    "\n",
    "plt.show()"
   ]
  },
  {
   "cell_type": "code",
   "execution_count": 4,
   "metadata": {},
   "outputs": [
    {
     "name": "stdout",
     "output_type": "stream",
     "text": [
      "+------+----+------------+-------------+------------+-------------+--------------+-----------------+-----------------+-----------------+------+\n",
      "|gender| age|hypertension|heart_disease|ever_married|    work_type|Residence_type|avg_glucose_level|              bmi|   smoking_status|stroke|\n",
      "+------+----+------------+-------------+------------+-------------+--------------+-----------------+-----------------+-----------------+------+\n",
      "|  Male|67.0|         0.0|          1.0|         Yes|      Private|         Urban|           228.69|             36.6|'formerly smoked'|     1|\n",
      "|Female|61.0|         0.0|          0.0|         Yes|Self-employed|         Rural|           202.21|28.87228404875467|   'never smoked'|     1|\n",
      "|  Male|80.0|         0.0|          1.0|         Yes|      Private|         Rural|           105.92|             32.5|   'never smoked'|     1|\n",
      "|Female|49.0|         0.0|          0.0|         Yes|      Private|         Urban|           171.23|             34.4|           smokes|     1|\n",
      "|Female|79.0|         1.0|          0.0|         Yes|Self-employed|         Rural|           174.12|             24.0|   'never smoked'|     1|\n",
      "|  Male|81.0|         0.0|          0.0|         Yes|      Private|         Urban|           186.21|             29.0|'formerly smoked'|     1|\n",
      "|  Male|74.0|         1.0|          1.0|         Yes|      Private|         Rural|            70.09|             27.4|   'never smoked'|     1|\n",
      "|Female|69.0|         0.0|          0.0|          No|      Private|         Urban|            94.39|             22.8|   'never smoked'|     1|\n",
      "|Female|59.0|         0.0|          0.0|         Yes|      Private|         Rural|            76.15|28.87228404875467|          Unknown|     1|\n",
      "|Female|78.0|         0.0|          0.0|         Yes|      Private|         Urban|            58.57|             24.2|          Unknown|     1|\n",
      "|Female|81.0|         1.0|          0.0|         Yes|      Private|         Rural|            80.43|             29.7|   'never smoked'|     1|\n",
      "|Female|61.0|         0.0|          1.0|         Yes|     Govt_job|         Rural|           120.46|             36.8|           smokes|     1|\n",
      "|Female|54.0|         0.0|          0.0|         Yes|      Private|         Urban|           104.51|             27.3|           smokes|     1|\n",
      "|  Male|78.0|         0.0|          1.0|         Yes|      Private|         Urban|           219.84|28.87228404875467|          Unknown|     1|\n",
      "|Female|79.0|         0.0|          1.0|         Yes|      Private|         Urban|           214.09|             28.2|   'never smoked'|     1|\n",
      "+------+----+------------+-------------+------------+-------------+--------------+-----------------+-----------------+-----------------+------+\n",
      "only showing top 15 rows\n",
      "\n"
     ]
    }
   ],
   "source": [
    "dataset_df = dataset_df.drop('id')  # izbacuje se id\n",
    "\n",
    "mean_bmi = dataset_df.select(mean(col('bmi'))).first()[\n",
    "    0]  # uzimam srednju vrednost bmi iz kolone\n",
    "\n",
    "dataset_df = dataset_df.withColumn('bmi', when(\n",
    "    col('bmi') == \"N/A\", mean_bmi).otherwise(col('bmi')))  # menjaj svuda gde je \"N/A\"\n",
    "\n",
    "dataset_df = dataset_df.withColumn(\"bmi\", dataset_df[\"bmi\"].cast(\n",
    "    \"double\"))  # bmi je bio string sad je double\n",
    "\n",
    "dataset_df.show(15)"
   ]
  },
  {
   "cell_type": "code",
   "execution_count": 5,
   "metadata": {},
   "outputs": [
    {
     "name": "stderr",
     "output_type": "stream",
     "text": [
      "                                                                                \r"
     ]
    },
    {
     "name": "stdout",
     "output_type": "stream",
     "text": [
      "+------+----+------------+-------------+------------+-------------+--------------+-----------------+-----------------+-----------------+------+------------+--------------+------------------+--------------------+---------------+-----------------+--------------------+----------------------+--------------------+----------------------+\n",
      "|gender| age|hypertension|heart_disease|ever_married|    work_type|Residence_type|avg_glucose_level|              bmi|   smoking_status|stroke|gender_index|gender_encoded|ever_married_index|ever_married_encoded|work_type_index|work_type_encoded|Residence_type_index|Residence_type_encoded|smoking_status_index|smoking_status_encoded|\n",
      "+------+----+------------+-------------+------------+-------------+--------------+-----------------+-----------------+-----------------+------+------------+--------------+------------------+--------------------+---------------+-----------------+--------------------+----------------------+--------------------+----------------------+\n",
      "|  Male|67.0|         0.0|          1.0|         Yes|      Private|         Urban|           228.69|             36.6|'formerly smoked'|     1|         1.0| (3,[1],[1.0])|               0.0|       (2,[0],[1.0])|            0.0|    (5,[0],[1.0])|                 0.0|         (2,[0],[1.0])|                 1.0|         (4,[1],[1.0])|\n",
      "|Female|61.0|         0.0|          0.0|         Yes|Self-employed|         Rural|           202.21|28.87228404875467|   'never smoked'|     1|         0.0| (3,[0],[1.0])|               0.0|       (2,[0],[1.0])|            1.0|    (5,[1],[1.0])|                 1.0|         (2,[1],[1.0])|                 0.0|         (4,[0],[1.0])|\n",
      "|  Male|80.0|         0.0|          1.0|         Yes|      Private|         Rural|           105.92|             32.5|   'never smoked'|     1|         1.0| (3,[1],[1.0])|               0.0|       (2,[0],[1.0])|            0.0|    (5,[0],[1.0])|                 1.0|         (2,[1],[1.0])|                 0.0|         (4,[0],[1.0])|\n",
      "|Female|49.0|         0.0|          0.0|         Yes|      Private|         Urban|           171.23|             34.4|           smokes|     1|         0.0| (3,[0],[1.0])|               0.0|       (2,[0],[1.0])|            0.0|    (5,[0],[1.0])|                 0.0|         (2,[0],[1.0])|                 3.0|         (4,[3],[1.0])|\n",
      "|Female|79.0|         1.0|          0.0|         Yes|Self-employed|         Rural|           174.12|             24.0|   'never smoked'|     1|         0.0| (3,[0],[1.0])|               0.0|       (2,[0],[1.0])|            1.0|    (5,[1],[1.0])|                 1.0|         (2,[1],[1.0])|                 0.0|         (4,[0],[1.0])|\n",
      "|  Male|81.0|         0.0|          0.0|         Yes|      Private|         Urban|           186.21|             29.0|'formerly smoked'|     1|         1.0| (3,[1],[1.0])|               0.0|       (2,[0],[1.0])|            0.0|    (5,[0],[1.0])|                 0.0|         (2,[0],[1.0])|                 1.0|         (4,[1],[1.0])|\n",
      "|  Male|74.0|         1.0|          1.0|         Yes|      Private|         Rural|            70.09|             27.4|   'never smoked'|     1|         1.0| (3,[1],[1.0])|               0.0|       (2,[0],[1.0])|            0.0|    (5,[0],[1.0])|                 1.0|         (2,[1],[1.0])|                 0.0|         (4,[0],[1.0])|\n",
      "|Female|69.0|         0.0|          0.0|          No|      Private|         Urban|            94.39|             22.8|   'never smoked'|     1|         0.0| (3,[0],[1.0])|               1.0|       (2,[1],[1.0])|            0.0|    (5,[0],[1.0])|                 0.0|         (2,[0],[1.0])|                 0.0|         (4,[0],[1.0])|\n",
      "|Female|59.0|         0.0|          0.0|         Yes|      Private|         Rural|            76.15|28.87228404875467|          Unknown|     1|         0.0| (3,[0],[1.0])|               0.0|       (2,[0],[1.0])|            0.0|    (5,[0],[1.0])|                 1.0|         (2,[1],[1.0])|                 2.0|         (4,[2],[1.0])|\n",
      "|Female|78.0|         0.0|          0.0|         Yes|      Private|         Urban|            58.57|             24.2|          Unknown|     1|         0.0| (3,[0],[1.0])|               0.0|       (2,[0],[1.0])|            0.0|    (5,[0],[1.0])|                 0.0|         (2,[0],[1.0])|                 2.0|         (4,[2],[1.0])|\n",
      "+------+----+------------+-------------+------------+-------------+--------------+-----------------+-----------------+-----------------+------+------------+--------------+------------------+--------------------+---------------+-----------------+--------------------+----------------------+--------------------+----------------------+\n",
      "only showing top 10 rows\n",
      "\n"
     ]
    }
   ],
   "source": [
    "# izdvoji kolone sa string tipom podataka\n",
    "string_columns = [col for col, dtype in dataset_df.dtypes if dtype == 'string']\n",
    "encoded_cols = list()\n",
    "stages = list()\n",
    "# Rade se StringIndexer i OneHotEncoder faze\n",
    "for column in string_columns:\n",
    "    # MNOBO JE VAŽNO OVO INVALID DA HENDLUJE JER SAM SE NAMUČILAAAAAAA BEZ TOGA\n",
    "    indexer = StringIndexer(\n",
    "        inputCol=column, outputCol=column + \"_index\", handleInvalid=\"keep\")\n",
    "    encoder = OneHotEncoder(\n",
    "        inputCols=[column + \"_index\"], outputCols=[column + \"_encoded\"])\n",
    "    stages += [indexer, encoder]\n",
    "\n",
    "# Create a Pipeline with the stages, ovo je s chatgpt jer moj kod nije hteo da radi bez pipeline :DDDDDD\n",
    "pipeline = Pipeline(stages=stages)\n",
    "\n",
    "# Fit and transform the pipeline on the DataFrame (gle ovde transform oce da radi :DDDDDDDDDDDDDDD)\n",
    "encoded_df = pipeline.fit(dataset_df).transform(dataset_df)\n",
    "encoded_df.show(10)"
   ]
  },
  {
   "cell_type": "code",
   "execution_count": 6,
   "metadata": {},
   "outputs": [
    {
     "name": "stdout",
     "output_type": "stream",
     "text": [
      "Vrednosti u koloni 'gender' se preslikavaju:\n",
      "Male -> 1.0\n",
      "Female -> 0.0\n",
      "Other -> 2.0\n",
      "Vrednosti u koloni 'ever_married' se preslikavaju:\n",
      "Yes -> 0.0\n",
      "No -> 1.0\n",
      "Vrednosti u koloni 'work_type' se preslikavaju:\n",
      "children -> 3.0\n",
      "Private -> 0.0\n",
      "Govt_job -> 2.0\n",
      "Never_worked -> 4.0\n",
      "Self-employed -> 1.0\n",
      "Vrednosti u koloni 'Residence_type' se preslikavaju:\n",
      "Rural -> 1.0\n",
      "Urban -> 0.0\n",
      "Vrednosti u koloni 'smoking_status' se preslikavaju:\n",
      "'never smoked' -> 0.0\n",
      "'formerly smoked' -> 1.0\n",
      "Unknown -> 2.0\n",
      "smokes -> 3.0\n",
      "+-------------+----+------------+-------------+-------------+-------------+--------------+-----------------+-----------------+--------------+------+\n",
      "|       gender| age|hypertension|heart_disease| ever_married|    work_type|Residence_type|avg_glucose_level|              bmi|smoking_status|stroke|\n",
      "+-------------+----+------------+-------------+-------------+-------------+--------------+-----------------+-----------------+--------------+------+\n",
      "|(3,[1],[1.0])|67.0|         0.0|          1.0|(2,[0],[1.0])|(5,[0],[1.0])| (2,[0],[1.0])|           228.69|             36.6| (4,[1],[1.0])|     1|\n",
      "|(3,[0],[1.0])|61.0|         0.0|          0.0|(2,[0],[1.0])|(5,[1],[1.0])| (2,[1],[1.0])|           202.21|28.87228404875467| (4,[0],[1.0])|     1|\n",
      "|(3,[1],[1.0])|80.0|         0.0|          1.0|(2,[0],[1.0])|(5,[0],[1.0])| (2,[1],[1.0])|           105.92|             32.5| (4,[0],[1.0])|     1|\n",
      "|(3,[0],[1.0])|49.0|         0.0|          0.0|(2,[0],[1.0])|(5,[0],[1.0])| (2,[0],[1.0])|           171.23|             34.4| (4,[3],[1.0])|     1|\n",
      "|(3,[0],[1.0])|79.0|         1.0|          0.0|(2,[0],[1.0])|(5,[1],[1.0])| (2,[1],[1.0])|           174.12|             24.0| (4,[0],[1.0])|     1|\n",
      "|(3,[1],[1.0])|81.0|         0.0|          0.0|(2,[0],[1.0])|(5,[0],[1.0])| (2,[0],[1.0])|           186.21|             29.0| (4,[1],[1.0])|     1|\n",
      "|(3,[1],[1.0])|74.0|         1.0|          1.0|(2,[0],[1.0])|(5,[0],[1.0])| (2,[1],[1.0])|            70.09|             27.4| (4,[0],[1.0])|     1|\n",
      "|(3,[0],[1.0])|69.0|         0.0|          0.0|(2,[1],[1.0])|(5,[0],[1.0])| (2,[0],[1.0])|            94.39|             22.8| (4,[0],[1.0])|     1|\n",
      "|(3,[0],[1.0])|59.0|         0.0|          0.0|(2,[0],[1.0])|(5,[0],[1.0])| (2,[1],[1.0])|            76.15|28.87228404875467| (4,[2],[1.0])|     1|\n",
      "|(3,[0],[1.0])|78.0|         0.0|          0.0|(2,[0],[1.0])|(5,[0],[1.0])| (2,[0],[1.0])|            58.57|             24.2| (4,[2],[1.0])|     1|\n",
      "+-------------+----+------------+-------------+-------------+-------------+--------------+-----------------+-----------------+--------------+------+\n",
      "only showing top 10 rows\n",
      "\n"
     ]
    }
   ],
   "source": [
    "# iterira se kroz sve string kolone i menja se originalno s enkodiranim vrednostima, a index vrednosti se dropuju sta ce nam\n",
    "for column in string_columns:\n",
    "    encoded_col = column + \"_encoded\"\n",
    "    index_col = column + \"_index\"\n",
    "    mapping = encoded_df.select(column, index_col).distinct().collect()\n",
    "    print(f\"Vrednosti u koloni '{column}' se preslikavaju:\")\n",
    "    for row in mapping:\n",
    "        print(f\"{row[column]} -> {row[index_col]}\")\n",
    "    encoded_df = encoded_df.withColumn(column, col(\n",
    "        encoded_col)).drop(encoded_col).drop(index_col)\n",
    "dataset_df = encoded_df\n",
    "dataset_df.show(10)"
   ]
  },
  {
   "cell_type": "code",
   "execution_count": 7,
   "metadata": {},
   "outputs": [
    {
     "name": "stdout",
     "output_type": "stream",
     "text": [
      "+-------------+----+------------+-------------+-------------+-------------+--------------+-----------------+-----------------+--------------+------+--------------------+\n",
      "|       gender| age|hypertension|heart_disease| ever_married|    work_type|Residence_type|avg_glucose_level|              bmi|smoking_status|stroke|            features|\n",
      "+-------------+----+------------+-------------+-------------+-------------+--------------+-----------------+-----------------+--------------+------+--------------------+\n",
      "|(3,[1],[1.0])|67.0|         0.0|          1.0|(2,[0],[1.0])|(5,[0],[1.0])| (2,[0],[1.0])|           228.69|             36.6| (4,[1],[1.0])|     1|(21,[1,3,5,6,8,13...|\n",
      "|(3,[0],[1.0])|61.0|         0.0|          0.0|(2,[0],[1.0])|(5,[1],[1.0])| (2,[1],[1.0])|           202.21|28.87228404875467| (4,[0],[1.0])|     1|(21,[0,3,6,9,14,1...|\n",
      "|(3,[1],[1.0])|80.0|         0.0|          1.0|(2,[0],[1.0])|(5,[0],[1.0])| (2,[1],[1.0])|           105.92|             32.5| (4,[0],[1.0])|     1|(21,[1,3,5,6,8,14...|\n",
      "|(3,[0],[1.0])|49.0|         0.0|          0.0|(2,[0],[1.0])|(5,[0],[1.0])| (2,[0],[1.0])|           171.23|             34.4| (4,[3],[1.0])|     1|(21,[0,3,6,8,13,1...|\n",
      "|(3,[0],[1.0])|79.0|         1.0|          0.0|(2,[0],[1.0])|(5,[1],[1.0])| (2,[1],[1.0])|           174.12|             24.0| (4,[0],[1.0])|     1|(21,[0,3,4,6,9,14...|\n",
      "|(3,[1],[1.0])|81.0|         0.0|          0.0|(2,[0],[1.0])|(5,[0],[1.0])| (2,[0],[1.0])|           186.21|             29.0| (4,[1],[1.0])|     1|(21,[1,3,6,8,13,1...|\n",
      "|(3,[1],[1.0])|74.0|         1.0|          1.0|(2,[0],[1.0])|(5,[0],[1.0])| (2,[1],[1.0])|            70.09|             27.4| (4,[0],[1.0])|     1|(21,[1,3,4,5,6,8,...|\n",
      "|(3,[0],[1.0])|69.0|         0.0|          0.0|(2,[1],[1.0])|(5,[0],[1.0])| (2,[0],[1.0])|            94.39|             22.8| (4,[0],[1.0])|     1|(21,[0,3,7,8,13,1...|\n",
      "|(3,[0],[1.0])|59.0|         0.0|          0.0|(2,[0],[1.0])|(5,[0],[1.0])| (2,[1],[1.0])|            76.15|28.87228404875467| (4,[2],[1.0])|     1|(21,[0,3,6,8,14,1...|\n",
      "|(3,[0],[1.0])|78.0|         0.0|          0.0|(2,[0],[1.0])|(5,[0],[1.0])| (2,[0],[1.0])|            58.57|             24.2| (4,[2],[1.0])|     1|(21,[0,3,6,8,13,1...|\n",
      "|(3,[0],[1.0])|81.0|         1.0|          0.0|(2,[0],[1.0])|(5,[0],[1.0])| (2,[1],[1.0])|            80.43|             29.7| (4,[0],[1.0])|     1|(21,[0,3,4,6,8,14...|\n",
      "|(3,[0],[1.0])|61.0|         0.0|          1.0|(2,[0],[1.0])|(5,[2],[1.0])| (2,[1],[1.0])|           120.46|             36.8| (4,[3],[1.0])|     1|(21,[0,3,5,6,10,1...|\n",
      "|(3,[0],[1.0])|54.0|         0.0|          0.0|(2,[0],[1.0])|(5,[0],[1.0])| (2,[0],[1.0])|           104.51|             27.3| (4,[3],[1.0])|     1|(21,[0,3,6,8,13,1...|\n",
      "|(3,[1],[1.0])|78.0|         0.0|          1.0|(2,[0],[1.0])|(5,[0],[1.0])| (2,[0],[1.0])|           219.84|28.87228404875467| (4,[2],[1.0])|     1|(21,[1,3,5,6,8,13...|\n",
      "|(3,[0],[1.0])|79.0|         0.0|          1.0|(2,[0],[1.0])|(5,[0],[1.0])| (2,[0],[1.0])|           214.09|             28.2| (4,[0],[1.0])|     1|(21,[0,3,5,6,8,13...|\n",
      "|(3,[0],[1.0])|50.0|         1.0|          0.0|(2,[0],[1.0])|(5,[1],[1.0])| (2,[1],[1.0])|           167.41|             30.9| (4,[0],[1.0])|     1|(21,[0,3,4,6,9,14...|\n",
      "|(3,[1],[1.0])|64.0|         0.0|          1.0|(2,[0],[1.0])|(5,[0],[1.0])| (2,[0],[1.0])|           191.61|             37.5| (4,[3],[1.0])|     1|(21,[1,3,5,6,8,13...|\n",
      "|(3,[1],[1.0])|75.0|         1.0|          0.0|(2,[0],[1.0])|(5,[0],[1.0])| (2,[0],[1.0])|           221.29|             25.8| (4,[3],[1.0])|     1|(21,[1,3,4,6,8,13...|\n",
      "|(3,[0],[1.0])|60.0|         0.0|          0.0|(2,[1],[1.0])|(5,[0],[1.0])| (2,[0],[1.0])|            89.22|             37.8| (4,[0],[1.0])|     1|(21,[0,3,7,8,13,1...|\n",
      "|(3,[1],[1.0])|57.0|         0.0|          1.0|(2,[1],[1.0])|(5,[2],[1.0])| (2,[0],[1.0])|           217.08|28.87228404875467| (4,[2],[1.0])|     1|(21,[1,3,5,7,10,1...|\n",
      "+-------------+----+------------+-------------+-------------+-------------+--------------+-----------------+-----------------+--------------+------+--------------------+\n",
      "only showing top 20 rows\n",
      "\n"
     ]
    }
   ],
   "source": [
    "feature_columns = [\"gender\", \"age\", \"hypertension\", \"heart_disease\", \"ever_married\",\n",
    "                   \"work_type\", \"Residence_type\", \"avg_glucose_level\", \"bmi\",\n",
    "                   \"smoking_status\"]\n",
    "\n",
    "# kreiranje VectorAssemblera\n",
    "assembler = VectorAssembler(inputCols=feature_columns, outputCol=\"features\")\n",
    "dataset_df = assembler.transform(encoded_df)\n",
    "dataset_df.show()"
   ]
  },
  {
   "cell_type": "code",
   "execution_count": 8,
   "metadata": {},
   "outputs": [],
   "source": [
    "# pravi se lista gde se instanciraju modeli (ovde mogu i svi ostali koji će da se koriste)\n",
    "classifiers = [\n",
    "    LogisticRegression(featuresCol=\"features\", labelCol=\"stroke\"),\n",
    "    NaiveBayes(featuresCol=\"features\", labelCol=\"stroke\"),\n",
    "    LinearSVC(featuresCol=\"features\", labelCol=\"stroke\"),\n",
    "    DecisionTreeClassifier(featuresCol=\"features\", labelCol=\"stroke\"),\n",
    "    RandomForestClassifier(featuresCol=\"features\", labelCol=\"stroke\")\n",
    "]"
   ]
  },
  {
   "cell_type": "code",
   "execution_count": 9,
   "metadata": {},
   "outputs": [
    {
     "name": "stdout",
     "output_type": "stream",
     "text": [
      "Klasifikator LogisticRegression s 30:70 test:trening podelom podataka:\n"
     ]
    },
    {
     "name": "stderr",
     "output_type": "stream",
     "text": [
      "23/06/27 00:41:54 WARN InstanceBuilder: Failed to load implementation from:dev.ludovic.netlib.blas.JNIBLAS\n",
      "23/06/27 00:41:54 WARN InstanceBuilder: Failed to load implementation from:dev.ludovic.netlib.blas.VectorBLAS\n",
      "                                                                                \r"
     ]
    },
    {
     "name": "stdout",
     "output_type": "stream",
     "text": [
      "Evaluacija LogisticRegression klasifikatora za 30:70 test:trening podelu podataka:\n",
      "              precision    recall  f1-score   support\n",
      "\n",
      "           0       0.86      0.86      0.86      1365\n",
      "           1       0.76      0.76      0.76       790\n",
      "\n",
      "    accuracy                           0.82      2155\n",
      "   macro avg       0.81      0.81      0.81      2155\n",
      "weighted avg       0.82      0.82      0.82      2155\n",
      "\n",
      "Matrica konfuzije:\n",
      "[[1176  189]\n",
      " [ 189  601]]\n",
      "Površina ispod ROC krive (AUC): 0.8962507534659336\n",
      "------------------------------------\n",
      "Klasifikator NaiveBayes s 30:70 test:trening podelom podataka:\n",
      "Evaluacija NaiveBayes klasifikatora za 30:70 test:trening podelu podataka:\n",
      "              precision    recall  f1-score   support\n",
      "\n",
      "           0       0.90      0.72      0.80      1365\n",
      "           1       0.64      0.87      0.74       790\n",
      "\n",
      "    accuracy                           0.77      2155\n",
      "   macro avg       0.77      0.79      0.77      2155\n",
      "weighted avg       0.81      0.77      0.78      2155\n",
      "\n",
      "Matrica konfuzije:\n",
      "[[977 388]\n",
      " [104 686]]\n",
      "Površina ispod ROC krive (AUC): 0.21410673714471185\n",
      "------------------------------------\n",
      "Klasifikator LinearSVC s 30:70 test:trening podelom podataka:\n",
      "Evaluacija LinearSVC klasifikatora za 30:70 test:trening podelu podataka:\n",
      "              precision    recall  f1-score   support\n",
      "\n",
      "           0       0.87      0.85      0.86      1365\n",
      "           1       0.76      0.78      0.77       790\n",
      "\n",
      "    accuracy                           0.83      2155\n",
      "   macro avg       0.81      0.82      0.81      2155\n",
      "weighted avg       0.83      0.83      0.83      2155\n",
      "\n",
      "Matrica konfuzije:\n",
      "[[1166  199]\n",
      " [ 174  616]]\n",
      "Površina ispod ROC krive (AUC): 0.8959336022627115\n",
      "------------------------------------\n",
      "Klasifikator DecisionTreeClassifier s 30:70 test:trening podelom podataka:\n",
      "Evaluacija DecisionTreeClassifier klasifikatora za 30:70 test:trening podelu podataka:\n",
      "              precision    recall  f1-score   support\n",
      "\n",
      "           0       0.89      0.94      0.91      1365\n",
      "           1       0.88      0.80      0.84       790\n",
      "\n",
      "    accuracy                           0.89      2155\n",
      "   macro avg       0.88      0.87      0.87      2155\n",
      "weighted avg       0.89      0.89      0.88      2155\n",
      "\n",
      "Matrica konfuzije:\n",
      "[[1279   86]\n",
      " [ 160  630]]\n",
      "Površina ispod ROC krive (AUC): 0.8893554968238514\n",
      "------------------------------------\n",
      "Klasifikator RandomForestClassifier s 30:70 test:trening podelom podataka:\n"
     ]
    },
    {
     "name": "stderr",
     "output_type": "stream",
     "text": [
      "                                                                                \r"
     ]
    },
    {
     "name": "stdout",
     "output_type": "stream",
     "text": [
      "Evaluacija RandomForestClassifier klasifikatora za 30:70 test:trening podelu podataka:\n",
      "              precision    recall  f1-score   support\n",
      "\n",
      "           0       0.88      0.96      0.92      1365\n",
      "           1       0.93      0.77      0.84       790\n",
      "\n",
      "    accuracy                           0.89      2155\n",
      "   macro avg       0.90      0.87      0.88      2155\n",
      "weighted avg       0.90      0.89      0.89      2155\n",
      "\n",
      "Matrica konfuzije:\n",
      "[[1316   49]\n",
      " [ 178  612]]\n",
      "Površina ispod ROC krive (AUC): 0.9581225947048729\n",
      "------------------------------------\n"
     ]
    }
   ],
   "source": [
    "for classifier in classifiers:\n",
    "    print(\n",
    "        f'Klasifikator {classifier.__class__.__name__} s 30:70 test:trening podelom podataka:')\n",
    "\n",
    "    train_data, test_data = dataset_df.randomSplit([0.7, 0.3], seed=42)\n",
    "\n",
    "    # model se pravi na osnovu trening podataka\n",
    "    model = classifier.fit(train_data)\n",
    "    # prave se predikcije s test podacima\n",
    "    predictions = model.transform(test_data)\n",
    "\n",
    "    predicted_strokes = np.array(predictions.select(\n",
    "        \"prediction\").rdd.flatMap(lambda x: x).collect())  # predikcije\n",
    "    \n",
    "    actual_strokes = np.array(predictions.select(\"stroke\").rdd.flatMap(\n",
    "        lambda x: x).collect())  # ekšual stronks (desilo se)\n",
    "\n",
    "    print(\n",
    "        f'Evaluacija {classifier.__class__.__name__} klasifikatora za 30:70 test:trening podelu podataka:')\n",
    "    print(classification_report(actual_strokes, predicted_strokes, zero_division=1))\n",
    "    print(\"Matrica konfuzije:\")\n",
    "    print(confusion_matrix(actual_strokes, predicted_strokes))\n",
    "\n",
    "    evaluator = BinaryClassificationEvaluator(labelCol=\"stroke\")\n",
    "    auc = evaluator.evaluate(predictions)\n",
    "    print(\"Površina ispod ROC krive (AUC):\", auc)\n",
    "    print(\"------------------------------------\")"
   ]
  },
  {
   "cell_type": "code",
   "execution_count": 10,
   "metadata": {},
   "outputs": [
    {
     "name": "stdout",
     "output_type": "stream",
     "text": [
      "Klasifikator LogisticRegression sa cross-validation:\n"
     ]
    },
    {
     "name": "stderr",
     "output_type": "stream",
     "text": [
      "                                                                                \r"
     ]
    },
    {
     "name": "stdout",
     "output_type": "stream",
     "text": [
      "Evaluacija LogisticRegression klasifikatora za cross-validation podelu podataka:\n",
      "              precision    recall  f1-score   support\n",
      "\n",
      "           0       0.87      0.87      0.87      4861\n",
      "           1       0.76      0.76      0.76      2714\n",
      "\n",
      "    accuracy                           0.83      7575\n",
      "   macro avg       0.81      0.81      0.81      7575\n",
      "weighted avg       0.83      0.83      0.83      7575\n",
      "\n",
      "Matrica konfuzije:\n",
      "[[4210  651]\n",
      " [ 645 2069]]\n",
      "Površina ispod ROC krive (AUC): 0.9028313572738584\n",
      "------------------------------------\n",
      "Klasifikator NaiveBayes sa cross-validation:\n",
      "Evaluacija NaiveBayes klasifikatora za cross-validation podelu podataka:\n",
      "              precision    recall  f1-score   support\n",
      "\n",
      "           0       0.92      0.72      0.81      4861\n",
      "           1       0.64      0.89      0.74      2714\n",
      "\n",
      "    accuracy                           0.78      7575\n",
      "   macro avg       0.78      0.80      0.77      7575\n",
      "weighted avg       0.82      0.78      0.78      7575\n",
      "\n",
      "Matrica konfuzije:\n",
      "[[3485 1376]\n",
      " [ 309 2405]]\n",
      "Površina ispod ROC krive (AUC): 0.20388320740309404\n",
      "------------------------------------\n",
      "Klasifikator LinearSVC sa cross-validation:\n",
      "Evaluacija LinearSVC klasifikatora za cross-validation podelu podataka:\n",
      "              precision    recall  f1-score   support\n",
      "\n",
      "           0       0.88      0.85      0.86      4861\n",
      "           1       0.75      0.78      0.77      2714\n",
      "\n",
      "    accuracy                           0.83      7575\n",
      "   macro avg       0.81      0.82      0.81      7575\n",
      "weighted avg       0.83      0.83      0.83      7575\n",
      "\n",
      "Matrica konfuzije:\n",
      "[[4153  708]\n",
      " [ 593 2121]]\n",
      "Površina ispod ROC krive (AUC): 0.9026551999681125\n",
      "------------------------------------\n",
      "Klasifikator DecisionTreeClassifier sa cross-validation:\n",
      "Evaluacija DecisionTreeClassifier klasifikatora za cross-validation podelu podataka:\n",
      "              precision    recall  f1-score   support\n",
      "\n",
      "           0       0.97      0.97      0.97      4861\n",
      "           1       0.95      0.94      0.95      2714\n",
      "\n",
      "    accuracy                           0.96      7575\n",
      "   macro avg       0.96      0.96      0.96      7575\n",
      "weighted avg       0.96      0.96      0.96      7575\n",
      "\n",
      "Matrica konfuzije:\n",
      "[[4727  134]\n",
      " [ 152 2562]]\n",
      "Površina ispod ROC krive (AUC): 0.9673592412926065\n",
      "------------------------------------\n",
      "Klasifikator RandomForestClassifier sa cross-validation:\n"
     ]
    },
    {
     "name": "stderr",
     "output_type": "stream",
     "text": [
      "23/06/27 00:48:25 WARN DAGScheduler: Broadcasting large task binary with size 1306.1 KiB\n",
      "23/06/27 00:48:26 WARN DAGScheduler: Broadcasting large task binary with size 1859.8 KiB\n",
      "23/06/27 00:48:27 WARN DAGScheduler: Broadcasting large task binary with size 2.5 MiB\n",
      "23/06/27 00:48:28 WARN DAGScheduler: Broadcasting large task binary with size 1637.5 KiB\n",
      "23/06/27 00:48:36 WARN DAGScheduler: Broadcasting large task binary with size 1545.3 KiB\n",
      "23/06/27 00:48:38 WARN DAGScheduler: Broadcasting large task binary with size 2.3 MiB\n",
      "23/06/27 00:48:39 WARN DAGScheduler: Broadcasting large task binary with size 3.4 MiB\n",
      "23/06/27 00:48:42 WARN DAGScheduler: Broadcasting large task binary with size 4.8 MiB\n",
      "23/06/27 00:48:45 WARN DAGScheduler: Broadcasting large task binary with size 3.0 MiB\n",
      "23/06/27 00:48:55 WARN DAGScheduler: Broadcasting large task binary with size 1370.9 KiB\n",
      "23/06/27 00:48:57 WARN DAGScheduler: Broadcasting large task binary with size 2.2 MiB\n",
      "23/06/27 00:49:00 WARN DAGScheduler: Broadcasting large task binary with size 3.4 MiB\n",
      "23/06/27 00:49:05 WARN DAGScheduler: Broadcasting large task binary with size 5.1 MiB\n",
      "23/06/27 00:49:11 WARN DAGScheduler: Broadcasting large task binary with size 7.0 MiB\n",
      "23/06/27 00:49:16 WARN DAGScheduler: Broadcasting large task binary with size 4.5 MiB\n",
      "23/06/27 00:49:25 WARN DAGScheduler: Broadcasting large task binary with size 1321.7 KiB\n",
      "23/06/27 00:49:26 WARN DAGScheduler: Broadcasting large task binary with size 1887.0 KiB\n",
      "23/06/27 00:49:27 WARN DAGScheduler: Broadcasting large task binary with size 2.5 MiB\n",
      "23/06/27 00:49:29 WARN DAGScheduler: Broadcasting large task binary with size 1665.3 KiB\n",
      "23/06/27 00:49:38 WARN DAGScheduler: Broadcasting large task binary with size 1562.7 KiB\n",
      "23/06/27 00:49:39 WARN DAGScheduler: Broadcasting large task binary with size 2.4 MiB\n",
      "23/06/27 00:49:41 WARN DAGScheduler: Broadcasting large task binary with size 3.5 MiB\n",
      "23/06/27 00:49:43 WARN DAGScheduler: Broadcasting large task binary with size 4.8 MiB\n",
      "23/06/27 00:49:46 WARN DAGScheduler: Broadcasting large task binary with size 3.0 MiB\n",
      "23/06/27 00:49:56 WARN DAGScheduler: Broadcasting large task binary with size 1388.4 KiB\n",
      "23/06/27 00:49:58 WARN DAGScheduler: Broadcasting large task binary with size 2.2 MiB\n",
      "23/06/27 00:50:01 WARN DAGScheduler: Broadcasting large task binary with size 3.5 MiB\n",
      "23/06/27 00:50:05 WARN DAGScheduler: Broadcasting large task binary with size 5.1 MiB\n",
      "23/06/27 00:50:10 WARN DAGScheduler: Broadcasting large task binary with size 7.1 MiB\n",
      "23/06/27 00:50:16 WARN DAGScheduler: Broadcasting large task binary with size 4.5 MiB\n",
      "23/06/27 00:50:24 WARN DAGScheduler: Broadcasting large task binary with size 1286.0 KiB\n",
      "23/06/27 00:50:25 WARN DAGScheduler: Broadcasting large task binary with size 1839.2 KiB\n",
      "23/06/27 00:50:26 WARN DAGScheduler: Broadcasting large task binary with size 2.4 MiB\n",
      "23/06/27 00:50:28 WARN DAGScheduler: Broadcasting large task binary with size 1619.4 KiB\n",
      "23/06/27 00:50:36 WARN DAGScheduler: Broadcasting large task binary with size 1553.0 KiB\n",
      "23/06/27 00:50:38 WARN DAGScheduler: Broadcasting large task binary with size 2.3 MiB\n",
      "23/06/27 00:50:39 WARN DAGScheduler: Broadcasting large task binary with size 3.4 MiB\n",
      "23/06/27 00:50:42 WARN DAGScheduler: Broadcasting large task binary with size 4.7 MiB\n",
      "23/06/27 00:50:44 WARN DAGScheduler: Broadcasting large task binary with size 2.9 MiB\n",
      "23/06/27 00:50:54 WARN DAGScheduler: Broadcasting large task binary with size 1373.4 KiB\n",
      "23/06/27 00:50:55 WARN DAGScheduler: Broadcasting large task binary with size 2.2 MiB\n",
      "23/06/27 00:50:58 WARN DAGScheduler: Broadcasting large task binary with size 3.4 MiB\n",
      "23/06/27 00:51:01 WARN DAGScheduler: Broadcasting large task binary with size 5.0 MiB\n",
      "23/06/27 00:51:05 WARN DAGScheduler: Broadcasting large task binary with size 6.9 MiB\n",
      "23/06/27 00:51:11 WARN DAGScheduler: Broadcasting large task binary with size 4.3 MiB\n",
      "23/06/27 00:51:19 WARN DAGScheduler: Broadcasting large task binary with size 1314.1 KiB\n",
      "23/06/27 00:51:20 WARN DAGScheduler: Broadcasting large task binary with size 1869.5 KiB\n",
      "23/06/27 00:51:21 WARN DAGScheduler: Broadcasting large task binary with size 2.5 MiB\n",
      "23/06/27 00:51:23 WARN DAGScheduler: Broadcasting large task binary with size 1635.8 KiB\n",
      "23/06/27 00:51:31 WARN DAGScheduler: Broadcasting large task binary with size 1001.1 KiB\n",
      "23/06/27 00:51:33 WARN DAGScheduler: Broadcasting large task binary with size 1580.2 KiB\n",
      "23/06/27 00:51:35 WARN DAGScheduler: Broadcasting large task binary with size 2.4 MiB\n",
      "23/06/27 00:51:37 WARN DAGScheduler: Broadcasting large task binary with size 3.5 MiB\n",
      "23/06/27 00:51:40 WARN DAGScheduler: Broadcasting large task binary with size 4.8 MiB\n",
      "23/06/27 00:51:44 WARN DAGScheduler: Broadcasting large task binary with size 3.0 MiB\n",
      "23/06/27 00:51:53 WARN DAGScheduler: Broadcasting large task binary with size 1388.9 KiB\n",
      "23/06/27 00:51:55 WARN DAGScheduler: Broadcasting large task binary with size 2.2 MiB\n",
      "23/06/27 00:51:57 WARN DAGScheduler: Broadcasting large task binary with size 3.5 MiB\n",
      "23/06/27 00:52:01 WARN DAGScheduler: Broadcasting large task binary with size 5.1 MiB\n",
      "23/06/27 00:52:04 WARN DAGScheduler: Broadcasting large task binary with size 7.1 MiB\n",
      "23/06/27 00:52:09 WARN DAGScheduler: Broadcasting large task binary with size 4.4 MiB\n",
      "23/06/27 00:52:17 WARN DAGScheduler: Broadcasting large task binary with size 1310.2 KiB\n",
      "23/06/27 00:52:18 WARN DAGScheduler: Broadcasting large task binary with size 1873.8 KiB\n",
      "23/06/27 00:52:19 WARN DAGScheduler: Broadcasting large task binary with size 2.5 MiB\n",
      "23/06/27 00:52:21 WARN DAGScheduler: Broadcasting large task binary with size 1649.5 KiB\n",
      "23/06/27 00:52:31 WARN DAGScheduler: Broadcasting large task binary with size 1547.8 KiB\n",
      "23/06/27 00:52:33 WARN DAGScheduler: Broadcasting large task binary with size 2.3 MiB\n",
      "23/06/27 00:52:35 WARN DAGScheduler: Broadcasting large task binary with size 3.4 MiB\n",
      "23/06/27 00:52:38 WARN DAGScheduler: Broadcasting large task binary with size 4.7 MiB\n",
      "23/06/27 00:52:42 WARN DAGScheduler: Broadcasting large task binary with size 3.0 MiB\n",
      "23/06/27 00:52:53 WARN DAGScheduler: Broadcasting large task binary with size 1385.7 KiB\n",
      "23/06/27 00:52:55 WARN DAGScheduler: Broadcasting large task binary with size 2.2 MiB\n",
      "23/06/27 00:52:58 WARN DAGScheduler: Broadcasting large task binary with size 3.5 MiB\n",
      "23/06/27 00:53:02 WARN DAGScheduler: Broadcasting large task binary with size 5.2 MiB\n",
      "23/06/27 00:53:07 WARN DAGScheduler: Broadcasting large task binary with size 7.2 MiB\n",
      "23/06/27 00:53:13 WARN DAGScheduler: Broadcasting large task binary with size 4.5 MiB\n",
      "23/06/27 00:53:20 WARN DAGScheduler: Broadcasting large task binary with size 1345.3 KiB\n",
      "23/06/27 00:53:23 WARN DAGScheduler: Broadcasting large task binary with size 2.2 MiB\n",
      "23/06/27 00:53:26 WARN DAGScheduler: Broadcasting large task binary with size 3.5 MiB\n",
      "23/06/27 00:53:32 WARN DAGScheduler: Broadcasting large task binary with size 5.4 MiB\n",
      "23/06/27 00:53:38 WARN DAGScheduler: Broadcasting large task binary with size 7.7 MiB\n",
      "23/06/27 00:53:46 WARN DAGScheduler: Broadcasting large task binary with size 4.7 MiB\n",
      "                                                                                \r"
     ]
    },
    {
     "name": "stdout",
     "output_type": "stream",
     "text": [
      "Evaluacija RandomForestClassifier klasifikatora za cross-validation podelu podataka:\n",
      "              precision    recall  f1-score   support\n",
      "\n",
      "           0       0.96      0.98      0.97      4861\n",
      "           1       0.96      0.93      0.94      2714\n",
      "\n",
      "    accuracy                           0.96      7575\n",
      "   macro avg       0.96      0.95      0.95      7575\n",
      "weighted avg       0.96      0.96      0.96      7575\n",
      "\n",
      "Matrica konfuzije:\n",
      "[[4743  118]\n",
      " [ 201 2513]]\n"
     ]
    },
    {
     "name": "stderr",
     "output_type": "stream",
     "text": [
      "23/06/27 00:53:49 WARN DAGScheduler: Broadcasting large task binary with size 4.7 MiB\n",
      "[Stage 7140:>                                                       (0 + 1) / 1]\r"
     ]
    },
    {
     "name": "stdout",
     "output_type": "stream",
     "text": [
      "Površina ispod ROC krive (AUC): 0.9923468594957509\n",
      "------------------------------------\n"
     ]
    },
    {
     "name": "stderr",
     "output_type": "stream",
     "text": [
      "                                                                                \r"
     ]
    }
   ],
   "source": [
    "for classifier in classifiers:\n",
    "    print(f'Klasifikator {classifier.__class__.__name__} sa cross-validation:')\n",
    "\n",
    "# Ovde se pomocu grida testiraju najbolji parametri za konkretni klasifikator, ima raznih\n",
    "\n",
    "    # smoothing se koristi kako bi se izbeglo da model dodeli nultu verovatnoću nekom atributu koji se nije pojavio u trening skupu podataka\n",
    "    if isinstance(classifier, NaiveBayes):\n",
    "        paramGrid = ParamGridBuilder() \\\n",
    "            .addGrid(classifier.smoothing, [0.1, 0.5, 1.0]) \\\n",
    "            .build()\n",
    "        \n",
    "    elif isinstance(classifier, DecisionTreeClassifier):\n",
    "        # MaxDepth je maksimalna dubina stabla koju dozvoljava Decision Tree algoritam\n",
    "        # MaxBins predstavlja maksimalni broj binova koji će se koristiti prilikom diskretizacije numeričkih atributa u Decision Tree algoritmu\n",
    "        paramGrid = ParamGridBuilder() \\\n",
    "            .addGrid(classifier.maxDepth, [2, 5, 10]) \\\n",
    "            .addGrid(classifier.maxBins, [10, 20, 30]) \\\n",
    "            .build()\n",
    "\n",
    "    elif isinstance(classifier, RandomForestClassifier):\n",
    "        # NumTrees je broj stabala koji će biti konstruisani u Random Forest algoritmu\n",
    "        paramGrid = ParamGridBuilder() \\\n",
    "            .addGrid(classifier.numTrees, [50, 100, 150]) \\\n",
    "            .addGrid(classifier.maxDepth, [2, 5, 10]) \\\n",
    "            .build()\n",
    "    else:\n",
    "        # regParam kontroliše jačinu regularizacije (manje vrednosti regParam smanjuju regularizaciju, dok veće vrednosti je pojačavaju), što znači da smanjuje overfitting\n",
    "        # MaxIter je maksimalni broj iteracija koje će alg. izvršiti prilikom učenja modela\n",
    "        paramGrid = ParamGridBuilder() \\\n",
    "            .addGrid(classifier.regParam, [0.01, 0.1, 1.0]) \\\n",
    "            .addGrid(classifier.maxIter, [10, 20, 30]) \\\n",
    "            .build()\n",
    "\n",
    "    crossval = CrossValidator(estimator=classifier,\n",
    "                              estimatorParamMaps=paramGrid,\n",
    "                              evaluator=BinaryClassificationEvaluator(\n",
    "                                  labelCol=\"stroke\"),\n",
    "                              numFolds=5)\n",
    "\n",
    "    cv_model = crossval.fit(dataset_df)  # kreira model\n",
    "    best_model = cv_model.bestModel  # uzima najbolji\n",
    "    predictions = best_model.transform(dataset_df)\n",
    "\n",
    "    predicted_strokes = np.array(predictions.select(\n",
    "        \"prediction\").rdd.flatMap(lambda x: x).collect())  # predikcije\n",
    "    \n",
    "    actual_strokes = np.array(predictions.select(\"stroke\").rdd.flatMap(\n",
    "        lambda x: x).collect())  # desilose\n",
    "\n",
    "    print(\n",
    "        f'Evaluacija {classifier.__class__.__name__} klasifikatora za cross-validation podelu podataka:')\n",
    "    print(classification_report(actual_strokes, predicted_strokes, zero_division=1))\n",
    "    print(\"Matrica konfuzije:\")\n",
    "    print(confusion_matrix(actual_strokes, predicted_strokes))\n",
    "\n",
    "    evaluator = BinaryClassificationEvaluator(labelCol=\"stroke\")\n",
    "    auc = evaluator.evaluate(predictions)\n",
    "    print(\"Površina ispod ROC krive (AUC):\", auc)\n",
    "    print(\"------------------------------------\")"
   ]
  }
 ],
 "metadata": {
  "kernelspec": {
   "display_name": "Python 3",
   "language": "python",
   "name": "python3"
  },
  "language_info": {
   "codemirror_mode": {
    "name": "ipython",
    "version": 3
   },
   "file_extension": ".py",
   "mimetype": "text/x-python",
   "name": "python",
   "nbconvert_exporter": "python",
   "pygments_lexer": "ipython3",
   "version": "3.9.0"
  },
  "orig_nbformat": 4,
  "vscode": {
   "interpreter": {
    "hash": "9e35676d33e03a9093a17dc7760f2b2aa4960ff6d3c0d7dc06348afdc0ca22c8"
   }
  }
 },
 "nbformat": 4,
 "nbformat_minor": 2
}
