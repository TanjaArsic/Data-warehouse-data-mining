{
 "cells": [
  {
   "cell_type": "code",
   "execution_count": 1,
   "metadata": {},
   "outputs": [],
   "source": [
    "from pyspark.sql import SparkSession\n",
    "from pyspark.sql.functions import mean, col, when, lit\n",
    "from pyspark.ml import Pipeline\n",
    "from pyspark.ml.classification import LogisticRegression, NaiveBayes, LinearSVC, DecisionTreeClassifier, RandomForestClassifier\n",
    "from pyspark.ml.tuning import ParamGridBuilder, CrossValidator\n",
    "from pyspark.ml.feature import VectorAssembler, OneHotEncoder, StringIndexer\n",
    "from pyspark.ml.evaluation import BinaryClassificationEvaluator\n",
    "from pyspark.mllib.evaluation import MulticlassMetrics\n",
    "from sklearn.metrics import classification_report, confusion_matrix\n",
    "from smote_sampling import vectorizerFunction, SmoteSampling\n",
    "import numpy as np\n",
    "import matplotlib.pyplot as plt"
   ]
  },
  {
   "cell_type": "code",
   "execution_count": 2,
   "metadata": {},
   "outputs": [
    {
     "name": "stderr",
     "output_type": "stream",
     "text": [
      "Setting default log level to \"WARN\".\n",
      "To adjust logging level use sc.setLogLevel(newLevel). For SparkR, use setLogLevel(newLevel).\n",
      "23/06/26 14:38:10 WARN NativeCodeLoader: Unable to load native-hadoop library for your platform... using builtin-java classes where applicable\n",
      "                                                                                \r"
     ]
    },
    {
     "name": "stdout",
     "output_type": "stream",
     "text": [
      "root\n",
      " |-- id: integer (nullable = true)\n",
      " |-- gender: string (nullable = true)\n",
      " |-- age: double (nullable = true)\n",
      " |-- hypertension: integer (nullable = true)\n",
      " |-- heart_disease: integer (nullable = true)\n",
      " |-- ever_married: string (nullable = true)\n",
      " |-- work_type: string (nullable = true)\n",
      " |-- Residence_type: string (nullable = true)\n",
      " |-- avg_glucose_level: double (nullable = true)\n",
      " |-- bmi: string (nullable = true)\n",
      " |-- smoking_status: string (nullable = true)\n",
      " |-- stroke: integer (nullable = true)\n",
      "\n"
     ]
    },
    {
     "name": "stderr",
     "output_type": "stream",
     "text": [
      "23/06/26 14:38:23 WARN package: Truncated the string representation of a plan since it was too large. This behavior can be adjusted by setting 'spark.sql.debug.maxToStringFields'.\n",
      "[Stage 2:>                                                          (0 + 1) / 1]\r"
     ]
    },
    {
     "name": "stdout",
     "output_type": "stream",
     "text": [
      "+-------+-----------------+------+------------------+------------------+-------------------+------------+---------+--------------+------------------+------------------+--------------+------------------+\n",
      "|summary|               id|gender|               age|      hypertension|      heart_disease|ever_married|work_type|Residence_type| avg_glucose_level|               bmi|smoking_status|            stroke|\n",
      "+-------+-----------------+------+------------------+------------------+-------------------+------------+---------+--------------+------------------+------------------+--------------+------------------+\n",
      "|  count|             5110|  5110|              5110|              5110|               5110|        5110|     5110|          5110|              5110|              5110|          5110|              5110|\n",
      "|   mean|36517.82935420744|  null|43.226614481409015|0.0974559686888454|0.05401174168297456|        null|     null|          null|106.14767710371804|28.893236911794673|          null|0.0487279843444227|\n",
      "+-------+-----------------+------+------------------+------------------+-------------------+------------+---------+--------------+------------------+------------------+--------------+------------------+\n",
      "only showing top 2 rows\n",
      "\n"
     ]
    },
    {
     "name": "stderr",
     "output_type": "stream",
     "text": [
      "                                                                                \r"
     ]
    }
   ],
   "source": [
    "# postavlja konfiguraciju SparkSession objekta za lokalni način rada (1 komp)\n",
    "spark = SparkSession.builder \\\n",
    "    .master(\"local\") \\\n",
    "    .appName(\"StrokePrediction\") \\\n",
    "    .config(\"spark.driver.memory\", \"8g\") \\\n",
    "    .getOrCreate()\n",
    "spark.sparkContext.setLogLevel(\"WARN\")\n",
    "dataset_df = spark.read.csv(\n",
    "    'healthcare-dataset-stroke-data.csv', inferSchema=True, header=True)\n",
    "\n",
    "\n",
    "dataset_df.printSchema()\n",
    "dataset_df.describe().show(2)  # sveukupna statistika, prva 2 reda"
   ]
  },
  {
   "cell_type": "code",
   "execution_count": 3,
   "metadata": {},
   "outputs": [
    {
     "name": "stdout",
     "output_type": "stream",
     "text": [
      "+------+-----+\n",
      "|stroke|count|\n",
      "+------+-----+\n",
      "|     1|  249|\n",
      "|     0| 4861|\n",
      "+------+-----+\n",
      "\n"
     ]
    },
    {
     "data": {
      "image/png": "[encoded data removed]",
      "text/plain": [
       "<Figure size 640x480 with 1 Axes>"
      ]
     },
     "metadata": {},
     "output_type": "display_data"
    }
   ],
   "source": [
    "dataset_df.groupby(\"stroke\").count().show()\n",
    "data = dataset_df.groupby(\"stroke\").count().collect()\n",
    "\n",
    "labels = [\"No Stroke\" if row['stroke'] == 0 else \"Stroke\" for row in data]\n",
    "counts = [row['count'] for row in data]\n",
    "\n",
    "plt.bar(labels, counts)\n",
    "\n",
    "plt.xlabel('Stroke')\n",
    "plt.ylabel('Count')\n",
    "plt.title('Stroke Data')\n",
    "\n",
    "plt.show()"
   ]
  },
  {
   "cell_type": "code",
   "execution_count": 4,
   "metadata": {},
   "outputs": [
    {
     "name": "stdout",
     "output_type": "stream",
     "text": [
      "+------+----+------------+-------------+------------+-------------+--------------+-----------------+------------------+---------------+------+\n",
      "|gender| age|hypertension|heart_disease|ever_married|    work_type|Residence_type|avg_glucose_level|               bmi| smoking_status|stroke|\n",
      "+------+----+------------+-------------+------------+-------------+--------------+-----------------+------------------+---------------+------+\n",
      "|  Male|67.0|           0|            1|         Yes|      Private|         Urban|           228.69|              36.6|formerly smoked|     1|\n",
      "|Female|61.0|           0|            0|         Yes|Self-employed|         Rural|           202.21|28.893236911794673|   never smoked|     1|\n",
      "|  Male|80.0|           0|            1|         Yes|      Private|         Rural|           105.92|              32.5|   never smoked|     1|\n",
      "|Female|49.0|           0|            0|         Yes|      Private|         Urban|           171.23|              34.4|         smokes|     1|\n",
      "|Female|79.0|           1|            0|         Yes|Self-employed|         Rural|           174.12|              24.0|   never smoked|     1|\n",
      "|  Male|81.0|           0|            0|         Yes|      Private|         Urban|           186.21|              29.0|formerly smoked|     1|\n",
      "|  Male|74.0|           1|            1|         Yes|      Private|         Rural|            70.09|              27.4|   never smoked|     1|\n",
      "|Female|69.0|           0|            0|          No|      Private|         Urban|            94.39|              22.8|   never smoked|     1|\n",
      "|Female|59.0|           0|            0|         Yes|      Private|         Rural|            76.15|28.893236911794673|        Unknown|     1|\n",
      "|Female|78.0|           0|            0|         Yes|      Private|         Urban|            58.57|              24.2|        Unknown|     1|\n",
      "|Female|81.0|           1|            0|         Yes|      Private|         Rural|            80.43|              29.7|   never smoked|     1|\n",
      "|Female|61.0|           0|            1|         Yes|     Govt_job|         Rural|           120.46|              36.8|         smokes|     1|\n",
      "|Female|54.0|           0|            0|         Yes|      Private|         Urban|           104.51|              27.3|         smokes|     1|\n",
      "|  Male|78.0|           0|            1|         Yes|      Private|         Urban|           219.84|28.893236911794673|        Unknown|     1|\n",
      "|Female|79.0|           0|            1|         Yes|      Private|         Urban|           214.09|              28.2|   never smoked|     1|\n",
      "+------+----+------------+-------------+------------+-------------+--------------+-----------------+------------------+---------------+------+\n",
      "only showing top 15 rows\n",
      "\n"
     ]
    }
   ],
   "source": [
    "dataset_df = dataset_df.drop('id')  # izbacuje se id\n",
    "\n",
    "mean_bmi = dataset_df.select(mean(col('bmi'))).first()[\n",
    "    0]  # uzimam srednju vrednost bmi iz kolone\n",
    "\n",
    "dataset_df = dataset_df.withColumn('bmi', when(\n",
    "    col('bmi') == \"N/A\", mean_bmi).otherwise(col('bmi')))  # menjaj svuda gde je \"N/A\"\n",
    "\n",
    "dataset_df = dataset_df.withColumn(\"bmi\", dataset_df[\"bmi\"].cast(\n",
    "    \"double\"))  # bmi je bio string sad je double\n",
    "\n",
    "dataset_df.show(15)"
   ]
  },
  {
   "cell_type": "code",
   "execution_count": 7,
   "metadata": {},
   "outputs": [
    {
     "name": "stdout",
     "output_type": "stream",
     "text": [
      "+------+----+------------+-------------+------------+-------------+--------------+-----------------+------------------+---------------+------+------------+--------------+------------------+--------------------+---------------+-----------------+--------------------+----------------------+--------------------+----------------------+\n",
      "|gender| age|hypertension|heart_disease|ever_married|    work_type|Residence_type|avg_glucose_level|               bmi| smoking_status|stroke|gender_index|gender_encoded|ever_married_index|ever_married_encoded|work_type_index|work_type_encoded|Residence_type_index|Residence_type_encoded|smoking_status_index|smoking_status_encoded|\n",
      "+------+----+------------+-------------+------------+-------------+--------------+-----------------+------------------+---------------+------+------------+--------------+------------------+--------------------+---------------+-----------------+--------------------+----------------------+--------------------+----------------------+\n",
      "|  Male|67.0|           0|            1|         Yes|      Private|         Urban|           228.69|              36.6|formerly smoked|     1|         1.0| (3,[1],[1.0])|               0.0|       (2,[0],[1.0])|            0.0|    (5,[0],[1.0])|                 0.0|         (2,[0],[1.0])|                 2.0|         (4,[2],[1.0])|\n",
      "|Female|61.0|           0|            0|         Yes|Self-employed|         Rural|           202.21|28.893236911794673|   never smoked|     1|         0.0| (3,[0],[1.0])|               0.0|       (2,[0],[1.0])|            1.0|    (5,[1],[1.0])|                 1.0|         (2,[1],[1.0])|                 0.0|         (4,[0],[1.0])|\n",
      "|  Male|80.0|           0|            1|         Yes|      Private|         Rural|           105.92|              32.5|   never smoked|     1|         1.0| (3,[1],[1.0])|               0.0|       (2,[0],[1.0])|            0.0|    (5,[0],[1.0])|                 1.0|         (2,[1],[1.0])|                 0.0|         (4,[0],[1.0])|\n",
      "|Female|49.0|           0|            0|         Yes|      Private|         Urban|           171.23|              34.4|         smokes|     1|         0.0| (3,[0],[1.0])|               0.0|       (2,[0],[1.0])|            0.0|    (5,[0],[1.0])|                 0.0|         (2,[0],[1.0])|                 3.0|         (4,[3],[1.0])|\n",
      "|Female|79.0|           1|            0|         Yes|Self-employed|         Rural|           174.12|              24.0|   never smoked|     1|         0.0| (3,[0],[1.0])|               0.0|       (2,[0],[1.0])|            1.0|    (5,[1],[1.0])|                 1.0|         (2,[1],[1.0])|                 0.0|         (4,[0],[1.0])|\n",
      "|  Male|81.0|           0|            0|         Yes|      Private|         Urban|           186.21|              29.0|formerly smoked|     1|         1.0| (3,[1],[1.0])|               0.0|       (2,[0],[1.0])|            0.0|    (5,[0],[1.0])|                 0.0|         (2,[0],[1.0])|                 2.0|         (4,[2],[1.0])|\n",
      "|  Male|74.0|           1|            1|         Yes|      Private|         Rural|            70.09|              27.4|   never smoked|     1|         1.0| (3,[1],[1.0])|               0.0|       (2,[0],[1.0])|            0.0|    (5,[0],[1.0])|                 1.0|         (2,[1],[1.0])|                 0.0|         (4,[0],[1.0])|\n",
      "|Female|69.0|           0|            0|          No|      Private|         Urban|            94.39|              22.8|   never smoked|     1|         0.0| (3,[0],[1.0])|               1.0|       (2,[1],[1.0])|            0.0|    (5,[0],[1.0])|                 0.0|         (2,[0],[1.0])|                 0.0|         (4,[0],[1.0])|\n",
      "|Female|59.0|           0|            0|         Yes|      Private|         Rural|            76.15|28.893236911794673|        Unknown|     1|         0.0| (3,[0],[1.0])|               0.0|       (2,[0],[1.0])|            0.0|    (5,[0],[1.0])|                 1.0|         (2,[1],[1.0])|                 1.0|         (4,[1],[1.0])|\n",
      "|Female|78.0|           0|            0|         Yes|      Private|         Urban|            58.57|              24.2|        Unknown|     1|         0.0| (3,[0],[1.0])|               0.0|       (2,[0],[1.0])|            0.0|    (5,[0],[1.0])|                 0.0|         (2,[0],[1.0])|                 1.0|         (4,[1],[1.0])|\n",
      "+------+----+------------+-------------+------------+-------------+--------------+-----------------+------------------+---------------+------+------------+--------------+------------------+--------------------+---------------+-----------------+--------------------+----------------------+--------------------+----------------------+\n",
      "only showing top 10 rows\n",
      "\n"
     ]
    }
   ],
   "source": [
    "# izdvoji kolone sa string tipom podataka\n",
    "string_columns = [col for col, dtype in dataset_df.dtypes if dtype == 'string']\n",
    "encoded_cols = list()\n",
    "stages = list()\n",
    "# Rade se StringIndexer i OneHotEncoder faze\n",
    "for column in string_columns:\n",
    "    # MNOBO JE VAŽNO OVO INVALID DA HENDLUJE JER SAM SE NAMUČILAAAAAAA BEZ TOGA\n",
    "    indexer = StringIndexer(\n",
    "        inputCol=column, outputCol=column + \"_index\", handleInvalid=\"keep\")\n",
    "    encoder = OneHotEncoder(\n",
    "        inputCols=[column + \"_index\"], outputCols=[column + \"_encoded\"])\n",
    "    stages += [indexer, encoder]\n",
    "\n",
    "# Create a Pipeline with the stages, ovo je s chatgpt jer moj kod nije hteo da radi bez pipeline :DDDDDD\n",
    "pipeline = Pipeline(stages=stages)\n",
    "\n",
    "# Fit and transform the pipeline on the DataFrame (gle ovde transform oce da radi :DDDDDDDDDDDDDDD)\n",
    "encoded_df = pipeline.fit(dataset_df).transform(dataset_df)\n",
    "encoded_df.show(10)"
   ]
  },
  {
   "cell_type": "code",
   "execution_count": 8,
   "metadata": {},
   "outputs": [
    {
     "name": "stdout",
     "output_type": "stream",
     "text": [
      "Vrednosti u koloni 'gender' se preslikavaju:\n",
      "Male -> 1.0\n",
      "Female -> 0.0\n",
      "Other -> 2.0\n",
      "Vrednosti u koloni 'ever_married' se preslikavaju:\n",
      "Yes -> 0.0\n",
      "No -> 1.0\n",
      "Vrednosti u koloni 'work_type' se preslikavaju:\n",
      "children -> 2.0\n",
      "Private -> 0.0\n",
      "Never_worked -> 4.0\n",
      "Govt_job -> 3.0\n",
      "Self-employed -> 1.0\n",
      "Vrednosti u koloni 'Residence_type' se preslikavaju:\n",
      "Rural -> 1.0\n",
      "Urban -> 0.0\n",
      "Vrednosti u koloni 'smoking_status' se preslikavaju:\n",
      "formerly smoked -> 2.0\n",
      "smokes -> 3.0\n",
      "Unknown -> 1.0\n",
      "never smoked -> 0.0\n",
      "+-------------+----+------------+-------------+-------------+-------------+--------------+-----------------+------------------+--------------+------+\n",
      "|       gender| age|hypertension|heart_disease| ever_married|    work_type|Residence_type|avg_glucose_level|               bmi|smoking_status|stroke|\n",
      "+-------------+----+------------+-------------+-------------+-------------+--------------+-----------------+------------------+--------------+------+\n",
      "|(3,[1],[1.0])|67.0|           0|            1|(2,[0],[1.0])|(5,[0],[1.0])| (2,[0],[1.0])|           228.69|              36.6| (4,[2],[1.0])|     1|\n",
      "|(3,[0],[1.0])|61.0|           0|            0|(2,[0],[1.0])|(5,[1],[1.0])| (2,[1],[1.0])|           202.21|28.893236911794673| (4,[0],[1.0])|     1|\n",
      "|(3,[1],[1.0])|80.0|           0|            1|(2,[0],[1.0])|(5,[0],[1.0])| (2,[1],[1.0])|           105.92|              32.5| (4,[0],[1.0])|     1|\n",
      "|(3,[0],[1.0])|49.0|           0|            0|(2,[0],[1.0])|(5,[0],[1.0])| (2,[0],[1.0])|           171.23|              34.4| (4,[3],[1.0])|     1|\n",
      "|(3,[0],[1.0])|79.0|           1|            0|(2,[0],[1.0])|(5,[1],[1.0])| (2,[1],[1.0])|           174.12|              24.0| (4,[0],[1.0])|     1|\n",
      "|(3,[1],[1.0])|81.0|           0|            0|(2,[0],[1.0])|(5,[0],[1.0])| (2,[0],[1.0])|           186.21|              29.0| (4,[2],[1.0])|     1|\n",
      "|(3,[1],[1.0])|74.0|           1|            1|(2,[0],[1.0])|(5,[0],[1.0])| (2,[1],[1.0])|            70.09|              27.4| (4,[0],[1.0])|     1|\n",
      "|(3,[0],[1.0])|69.0|           0|            0|(2,[1],[1.0])|(5,[0],[1.0])| (2,[0],[1.0])|            94.39|              22.8| (4,[0],[1.0])|     1|\n",
      "|(3,[0],[1.0])|59.0|           0|            0|(2,[0],[1.0])|(5,[0],[1.0])| (2,[1],[1.0])|            76.15|28.893236911794673| (4,[1],[1.0])|     1|\n",
      "|(3,[0],[1.0])|78.0|           0|            0|(2,[0],[1.0])|(5,[0],[1.0])| (2,[0],[1.0])|            58.57|              24.2| (4,[1],[1.0])|     1|\n",
      "+-------------+----+------------+-------------+-------------+-------------+--------------+-----------------+------------------+--------------+------+\n",
      "only showing top 10 rows\n",
      "\n"
     ]
    }
   ],
   "source": [
    "# iterira se kroz sve string kolone i menja se originalno s enkodiranim vrednostima, a index vrednosti se dropuju sta ce nam\n",
    "for column in string_columns:\n",
    "    encoded_col = column + \"_encoded\"\n",
    "    index_col = column + \"_index\"\n",
    "    mapping = encoded_df.select(column, index_col).distinct().collect()\n",
    "    print(f\"Vrednosti u koloni '{column}' se preslikavaju:\")\n",
    "    for row in mapping:\n",
    "        print(f\"{row[column]} -> {row[index_col]}\")\n",
    "    encoded_df = encoded_df.withColumn(column, col(\n",
    "        encoded_col)).drop(encoded_col).drop(index_col)\n",
    "dataset_df = encoded_df\n",
    "dataset_df.show(10)"
   ]
  },
  {
   "cell_type": "code",
   "execution_count": 9,
   "metadata": {},
   "outputs": [
    {
     "name": "stdout",
     "output_type": "stream",
     "text": [
      "+-------------+----+------------+-------------+-------------+-------------+--------------+-----------------+------------------+--------------+------+--------------------+\n",
      "|       gender| age|hypertension|heart_disease| ever_married|    work_type|Residence_type|avg_glucose_level|               bmi|smoking_status|stroke|            features|\n",
      "+-------------+----+------------+-------------+-------------+-------------+--------------+-----------------+------------------+--------------+------+--------------------+\n",
      "|(3,[1],[1.0])|67.0|           0|            1|(2,[0],[1.0])|(5,[0],[1.0])| (2,[0],[1.0])|           228.69|              36.6| (4,[2],[1.0])|     1|(21,[1,3,5,6,8,13...|\n",
      "|(3,[0],[1.0])|61.0|           0|            0|(2,[0],[1.0])|(5,[1],[1.0])| (2,[1],[1.0])|           202.21|28.893236911794673| (4,[0],[1.0])|     1|(21,[0,3,6,9,14,1...|\n",
      "|(3,[1],[1.0])|80.0|           0|            1|(2,[0],[1.0])|(5,[0],[1.0])| (2,[1],[1.0])|           105.92|              32.5| (4,[0],[1.0])|     1|(21,[1,3,5,6,8,14...|\n",
      "|(3,[0],[1.0])|49.0|           0|            0|(2,[0],[1.0])|(5,[0],[1.0])| (2,[0],[1.0])|           171.23|              34.4| (4,[3],[1.0])|     1|(21,[0,3,6,8,13,1...|\n",
      "|(3,[0],[1.0])|79.0|           1|            0|(2,[0],[1.0])|(5,[1],[1.0])| (2,[1],[1.0])|           174.12|              24.0| (4,[0],[1.0])|     1|(21,[0,3,4,6,9,14...|\n",
      "|(3,[1],[1.0])|81.0|           0|            0|(2,[0],[1.0])|(5,[0],[1.0])| (2,[0],[1.0])|           186.21|              29.0| (4,[2],[1.0])|     1|(21,[1,3,6,8,13,1...|\n",
      "|(3,[1],[1.0])|74.0|           1|            1|(2,[0],[1.0])|(5,[0],[1.0])| (2,[1],[1.0])|            70.09|              27.4| (4,[0],[1.0])|     1|(21,[1,3,4,5,6,8,...|\n",
      "|(3,[0],[1.0])|69.0|           0|            0|(2,[1],[1.0])|(5,[0],[1.0])| (2,[0],[1.0])|            94.39|              22.8| (4,[0],[1.0])|     1|(21,[0,3,7,8,13,1...|\n",
      "|(3,[0],[1.0])|59.0|           0|            0|(2,[0],[1.0])|(5,[0],[1.0])| (2,[1],[1.0])|            76.15|28.893236911794673| (4,[1],[1.0])|     1|(21,[0,3,6,8,14,1...|\n",
      "|(3,[0],[1.0])|78.0|           0|            0|(2,[0],[1.0])|(5,[0],[1.0])| (2,[0],[1.0])|            58.57|              24.2| (4,[1],[1.0])|     1|(21,[0,3,6,8,13,1...|\n",
      "|(3,[0],[1.0])|81.0|           1|            0|(2,[0],[1.0])|(5,[0],[1.0])| (2,[1],[1.0])|            80.43|              29.7| (4,[0],[1.0])|     1|(21,[0,3,4,6,8,14...|\n",
      "|(3,[0],[1.0])|61.0|           0|            1|(2,[0],[1.0])|(5,[3],[1.0])| (2,[1],[1.0])|           120.46|              36.8| (4,[3],[1.0])|     1|(21,[0,3,5,6,11,1...|\n",
      "|(3,[0],[1.0])|54.0|           0|            0|(2,[0],[1.0])|(5,[0],[1.0])| (2,[0],[1.0])|           104.51|              27.3| (4,[3],[1.0])|     1|(21,[0,3,6,8,13,1...|\n",
      "|(3,[1],[1.0])|78.0|           0|            1|(2,[0],[1.0])|(5,[0],[1.0])| (2,[0],[1.0])|           219.84|28.893236911794673| (4,[1],[1.0])|     1|(21,[1,3,5,6,8,13...|\n",
      "|(3,[0],[1.0])|79.0|           0|            1|(2,[0],[1.0])|(5,[0],[1.0])| (2,[0],[1.0])|           214.09|              28.2| (4,[0],[1.0])|     1|(21,[0,3,5,6,8,13...|\n",
      "|(3,[0],[1.0])|50.0|           1|            0|(2,[0],[1.0])|(5,[1],[1.0])| (2,[1],[1.0])|           167.41|              30.9| (4,[0],[1.0])|     1|(21,[0,3,4,6,9,14...|\n",
      "|(3,[1],[1.0])|64.0|           0|            1|(2,[0],[1.0])|(5,[0],[1.0])| (2,[0],[1.0])|           191.61|              37.5| (4,[3],[1.0])|     1|(21,[1,3,5,6,8,13...|\n",
      "|(3,[1],[1.0])|75.0|           1|            0|(2,[0],[1.0])|(5,[0],[1.0])| (2,[0],[1.0])|           221.29|              25.8| (4,[3],[1.0])|     1|(21,[1,3,4,6,8,13...|\n",
      "|(3,[0],[1.0])|60.0|           0|            0|(2,[1],[1.0])|(5,[0],[1.0])| (2,[0],[1.0])|            89.22|              37.8| (4,[0],[1.0])|     1|(21,[0,3,7,8,13,1...|\n",
      "|(3,[1],[1.0])|57.0|           0|            1|(2,[1],[1.0])|(5,[3],[1.0])| (2,[0],[1.0])|           217.08|28.893236911794673| (4,[1],[1.0])|     1|(21,[1,3,5,7,11,1...|\n",
      "+-------------+----+------------+-------------+-------------+-------------+--------------+-----------------+------------------+--------------+------+--------------------+\n",
      "only showing top 20 rows\n",
      "\n"
     ]
    }
   ],
   "source": [
    "feature_columns = [\"gender\", \"age\", \"hypertension\", \"heart_disease\", \"ever_married\",\n",
    "                   \"work_type\", \"Residence_type\", \"avg_glucose_level\", \"bmi\",\n",
    "                   \"smoking_status\"]\n",
    "\n",
    "# kreiranje VectorAssemblera\n",
    "assembler = VectorAssembler(inputCols=feature_columns, outputCol=\"features\")\n",
    "dataset_df = assembler.transform(encoded_df)\n",
    "dataset_df.show()"
   ]
  },
  {
   "cell_type": "code",
   "execution_count": 10,
   "metadata": {},
   "outputs": [],
   "source": [
    "# pravi se lista gde se instanciraju modeli (ovde mogu i svi ostali koji će da se koriste)\n",
    "classifiers = [\n",
    "    LogisticRegression(featuresCol=\"features\", labelCol=\"stroke\"),\n",
    "    NaiveBayes(featuresCol=\"features\", labelCol=\"stroke\"),\n",
    "    LinearSVC(featuresCol=\"features\", labelCol=\"stroke\"),\n",
    "    DecisionTreeClassifier(featuresCol=\"features\", labelCol=\"stroke\"),\n",
    "    RandomForestClassifier(featuresCol=\"features\", labelCol=\"stroke\")\n",
    "]"
   ]
  },
  {
   "cell_type": "code",
   "execution_count": 11,
   "metadata": {},
   "outputs": [
    {
     "name": "stdout",
     "output_type": "stream",
     "text": [
      "Klasifikator LogisticRegression s 30:70 test:trening podelom podataka:\n"
     ]
    },
    {
     "name": "stderr",
     "output_type": "stream",
     "text": [
      "23/06/26 14:40:16 WARN InstanceBuilder: Failed to load implementation from:dev.ludovic.netlib.blas.JNIBLAS\n",
      "                                                                                \r"
     ]
    },
    {
     "name": "stdout",
     "output_type": "stream",
     "text": [
      "Evaluacija LogisticRegression klasifikatora za 30:70 test:trening podelu podataka:\n",
      "              precision    recall  f1-score   support\n",
      "\n",
      "           0       0.95      1.00      0.98      1400\n",
      "           1       0.00      0.00      0.00        70\n",
      "\n",
      "    accuracy                           0.95      1470\n",
      "   macro avg       0.48      0.50      0.49      1470\n",
      "weighted avg       0.91      0.95      0.93      1470\n",
      "\n",
      "Matrica konfuzije:\n",
      "[[1399    1]\n",
      " [  70    0]]\n",
      "Površina ispod ROC krive (AUC): 0.8109285714285707\n",
      "------------------------------------\n",
      "Klasifikator NaiveBayes s 30:70 test:trening podelom podataka:\n",
      "Evaluacija NaiveBayes klasifikatora za 30:70 test:trening podelu podataka:\n",
      "              precision    recall  f1-score   support\n",
      "\n",
      "           0       0.98      0.81      0.88      1400\n",
      "           1       0.14      0.66      0.24        70\n",
      "\n",
      "    accuracy                           0.80      1470\n",
      "   macro avg       0.56      0.73      0.56      1470\n",
      "weighted avg       0.94      0.80      0.85      1470\n",
      "\n",
      "Matrica konfuzije:\n",
      "[[1127  273]\n",
      " [  24   46]]\n",
      "Površina ispod ROC krive (AUC): 0.2470000000000002\n",
      "------------------------------------\n",
      "Klasifikator LinearSVC s 30:70 test:trening podelom podataka:\n",
      "Evaluacija LinearSVC klasifikatora za 30:70 test:trening podelu podataka:\n",
      "              precision    recall  f1-score   support\n",
      "\n",
      "           0       0.95      1.00      0.98      1400\n",
      "           1       1.00      0.00      0.00        70\n",
      "\n",
      "    accuracy                           0.95      1470\n",
      "   macro avg       0.98      0.50      0.49      1470\n",
      "weighted avg       0.95      0.95      0.93      1470\n",
      "\n",
      "Matrica konfuzije:\n",
      "[[1400    0]\n",
      " [  70    0]]\n",
      "Površina ispod ROC krive (AUC): 0.7273571428571375\n",
      "------------------------------------\n",
      "Klasifikator DecisionTreeClassifier s 30:70 test:trening podelom podataka:\n",
      "Evaluacija DecisionTreeClassifier klasifikatora za 30:70 test:trening podelu podataka:\n",
      "              precision    recall  f1-score   support\n",
      "\n",
      "           0       0.95      1.00      0.97      1400\n",
      "           1       0.00      0.00      0.00        70\n",
      "\n",
      "    accuracy                           0.95      1470\n",
      "   macro avg       0.48      0.50      0.49      1470\n",
      "weighted avg       0.91      0.95      0.93      1470\n",
      "\n",
      "Matrica konfuzije:\n",
      "[[1398    2]\n",
      " [  70    0]]\n",
      "Površina ispod ROC krive (AUC): 0.7636479591836735\n",
      "------------------------------------\n",
      "Klasifikator RandomForestClassifier s 30:70 test:trening podelom podataka:\n",
      "Evaluacija RandomForestClassifier klasifikatora za 30:70 test:trening podelu podataka:\n",
      "              precision    recall  f1-score   support\n",
      "\n",
      "           0       0.95      1.00      0.98      1400\n",
      "           1       1.00      0.00      0.00        70\n",
      "\n",
      "    accuracy                           0.95      1470\n",
      "   macro avg       0.98      0.50      0.49      1470\n",
      "weighted avg       0.95      0.95      0.93      1470\n",
      "\n",
      "Matrica konfuzije:\n",
      "[[1400    0]\n",
      " [  70    0]]\n",
      "Površina ispod ROC krive (AUC): 0.8003061224489789\n",
      "------------------------------------\n"
     ]
    }
   ],
   "source": [
    "for classifier in classifiers:\n",
    "    print(\n",
    "        f'Klasifikator {classifier.__class__.__name__} s 30:70 test:trening podelom podataka:')\n",
    "\n",
    "    train_data, test_data = dataset_df.randomSplit([0.7, 0.3], seed=42)\n",
    "\n",
    "    # model se pravi na osnovu trening podataka\n",
    "    model = classifier.fit(train_data)\n",
    "    # prave se predikcije s test podacima\n",
    "    predictions = model.transform(test_data)\n",
    "\n",
    "    predicted_strokes = np.array(predictions.select(\n",
    "        \"prediction\").rdd.flatMap(lambda x: x).collect())  # predikcije\n",
    "    \n",
    "    actual_strokes = np.array(predictions.select(\"stroke\").rdd.flatMap(\n",
    "        lambda x: x).collect())  # ekšual stronks (desilo se)\n",
    "\n",
    "    print(\n",
    "        f'Evaluacija {classifier.__class__.__name__} klasifikatora za 30:70 test:trening podelu podataka:')\n",
    "    print(classification_report(actual_strokes, predicted_strokes, zero_division=1))\n",
    "    print(\"Matrica konfuzije:\")\n",
    "    print(confusion_matrix(actual_strokes, predicted_strokes))\n",
    "\n",
    "    evaluator = BinaryClassificationEvaluator(labelCol=\"stroke\")\n",
    "    auc = evaluator.evaluate(predictions)\n",
    "    print(\"Površina ispod ROC krive (AUC):\", auc)\n",
    "    print(\"------------------------------------\")"
   ]
  },
  {
   "cell_type": "code",
   "execution_count": 12,
   "metadata": {},
   "outputs": [
    {
     "name": "stdout",
     "output_type": "stream",
     "text": [
      "Klasifikator LogisticRegression sa cross-validation:\n",
      "Evaluacija LogisticRegression klasifikatora za cross-validation podelu podataka:\n",
      "              precision    recall  f1-score   support\n",
      "\n",
      "           0       0.95      1.00      0.98      4861\n",
      "           1       1.00      0.00      0.00       249\n",
      "\n",
      "    accuracy                           0.95      5110\n",
      "   macro avg       0.98      0.50      0.49      5110\n",
      "weighted avg       0.95      0.95      0.93      5110\n",
      "\n",
      "Matrica konfuzije:\n",
      "[[4861    0]\n",
      " [ 249    0]]\n",
      "Površina ispod ROC krive (AUC): 0.8452423146608133\n",
      "------------------------------------\n",
      "Klasifikator NaiveBayes sa cross-validation:\n",
      "Evaluacija NaiveBayes klasifikatora za cross-validation podelu podataka:\n",
      "              precision    recall  f1-score   support\n",
      "\n",
      "           0       0.97      0.82      0.89      4861\n",
      "           1       0.13      0.53      0.21       249\n",
      "\n",
      "    accuracy                           0.80      5110\n",
      "   macro avg       0.55      0.67      0.55      5110\n",
      "weighted avg       0.93      0.80      0.86      5110\n",
      "\n",
      "Matrica konfuzije:\n",
      "[[3980  881]\n",
      " [ 117  132]]\n",
      "Površina ispod ROC krive (AUC): 0.20842638193175902\n",
      "------------------------------------\n",
      "Klasifikator LinearSVC sa cross-validation:\n"
     ]
    },
    {
     "ename": "KeyboardInterrupt",
     "evalue": "",
     "output_type": "error",
     "traceback": [
      "\u001b[0;31m---------------------------------------------------------------------------\u001b[0m",
      "\u001b[0;31mIndexError\u001b[0m                                Traceback (most recent call last)",
      "File \u001b[0;32m~/anaconda3/envs/dw/lib/python3.9/multiprocessing/pool.py:853\u001b[0m, in \u001b[0;36mIMapIterator.next\u001b[0;34m(self, timeout)\u001b[0m\n\u001b[1;32m    852\u001b[0m \u001b[39mtry\u001b[39;00m:\n\u001b[0;32m--> 853\u001b[0m     item \u001b[39m=\u001b[39m \u001b[39mself\u001b[39;49m\u001b[39m.\u001b[39;49m_items\u001b[39m.\u001b[39;49mpopleft()\n\u001b[1;32m    854\u001b[0m \u001b[39mexcept\u001b[39;00m \u001b[39mIndexError\u001b[39;00m:\n",
      "\u001b[0;31mIndexError\u001b[0m: pop from an empty deque",
      "\nDuring handling of the above exception, another exception occurred:\n",
      "\u001b[0;31mKeyboardInterrupt\u001b[0m                         Traceback (most recent call last)",
      "Cell \u001b[0;32mIn[12], line 40\u001b[0m\n\u001b[1;32m     29\u001b[0m     paramGrid \u001b[39m=\u001b[39m ParamGridBuilder() \\\n\u001b[1;32m     30\u001b[0m         \u001b[39m.\u001b[39maddGrid(classifier\u001b[39m.\u001b[39mregParam, [\u001b[39m0.01\u001b[39m, \u001b[39m0.1\u001b[39m, \u001b[39m1.0\u001b[39m]) \\\n\u001b[1;32m     31\u001b[0m         \u001b[39m.\u001b[39maddGrid(classifier\u001b[39m.\u001b[39mmaxIter, [\u001b[39m10\u001b[39m, \u001b[39m20\u001b[39m, \u001b[39m30\u001b[39m]) \\\n\u001b[1;32m     32\u001b[0m         \u001b[39m.\u001b[39mbuild()\n\u001b[1;32m     34\u001b[0m crossval \u001b[39m=\u001b[39m CrossValidator(estimator\u001b[39m=\u001b[39mclassifier,\n\u001b[1;32m     35\u001b[0m                           estimatorParamMaps\u001b[39m=\u001b[39mparamGrid,\n\u001b[1;32m     36\u001b[0m                           evaluator\u001b[39m=\u001b[39mBinaryClassificationEvaluator(\n\u001b[1;32m     37\u001b[0m                               labelCol\u001b[39m=\u001b[39m\u001b[39m\"\u001b[39m\u001b[39mstroke\u001b[39m\u001b[39m\"\u001b[39m),\n\u001b[1;32m     38\u001b[0m                           numFolds\u001b[39m=\u001b[39m\u001b[39m5\u001b[39m)\n\u001b[0;32m---> 40\u001b[0m cv_model \u001b[39m=\u001b[39m crossval\u001b[39m.\u001b[39;49mfit(dataset_df)  \u001b[39m# kreira model\u001b[39;00m\n\u001b[1;32m     41\u001b[0m best_model \u001b[39m=\u001b[39m cv_model\u001b[39m.\u001b[39mbestModel  \u001b[39m# uzima najbolji\u001b[39;00m\n\u001b[1;32m     42\u001b[0m predictions \u001b[39m=\u001b[39m best_model\u001b[39m.\u001b[39mtransform(dataset_df)\n",
      "File \u001b[0;32m~/.local/lib/python3.9/site-packages/pyspark/ml/base.py:205\u001b[0m, in \u001b[0;36mEstimator.fit\u001b[0;34m(self, dataset, params)\u001b[0m\n\u001b[1;32m    203\u001b[0m         \u001b[39mreturn\u001b[39;00m \u001b[39mself\u001b[39m\u001b[39m.\u001b[39mcopy(params)\u001b[39m.\u001b[39m_fit(dataset)\n\u001b[1;32m    204\u001b[0m     \u001b[39melse\u001b[39;00m:\n\u001b[0;32m--> 205\u001b[0m         \u001b[39mreturn\u001b[39;00m \u001b[39mself\u001b[39;49m\u001b[39m.\u001b[39;49m_fit(dataset)\n\u001b[1;32m    206\u001b[0m \u001b[39melse\u001b[39;00m:\n\u001b[1;32m    207\u001b[0m     \u001b[39mraise\u001b[39;00m \u001b[39mTypeError\u001b[39;00m(\n\u001b[1;32m    208\u001b[0m         \u001b[39m\"\u001b[39m\u001b[39mParams must be either a param map or a list/tuple of param maps, \u001b[39m\u001b[39m\"\u001b[39m\n\u001b[1;32m    209\u001b[0m         \u001b[39m\"\u001b[39m\u001b[39mbut got \u001b[39m\u001b[39m%s\u001b[39;00m\u001b[39m.\u001b[39m\u001b[39m\"\u001b[39m \u001b[39m%\u001b[39m \u001b[39mtype\u001b[39m(params)\n\u001b[1;32m    210\u001b[0m     )\n",
      "File \u001b[0;32m~/.local/lib/python3.9/site-packages/pyspark/ml/tuning.py:847\u001b[0m, in \u001b[0;36mCrossValidator._fit\u001b[0;34m(self, dataset)\u001b[0m\n\u001b[1;32m    841\u001b[0m train \u001b[39m=\u001b[39m datasets[i][\u001b[39m0\u001b[39m]\u001b[39m.\u001b[39mcache()\n\u001b[1;32m    843\u001b[0m tasks \u001b[39m=\u001b[39m \u001b[39mmap\u001b[39m(\n\u001b[1;32m    844\u001b[0m     inheritable_thread_target,\n\u001b[1;32m    845\u001b[0m     _parallelFitTasks(est, train, eva, validation, epm, collectSubModelsParam),\n\u001b[1;32m    846\u001b[0m )\n\u001b[0;32m--> 847\u001b[0m \u001b[39mfor\u001b[39;00m j, metric, subModel \u001b[39min\u001b[39;00m pool\u001b[39m.\u001b[39mimap_unordered(\u001b[39mlambda\u001b[39;00m f: f(), tasks):\n\u001b[1;32m    848\u001b[0m     metrics_all[i][j] \u001b[39m=\u001b[39m metric\n\u001b[1;32m    849\u001b[0m     \u001b[39mif\u001b[39;00m collectSubModelsParam:\n",
      "File \u001b[0;32m~/anaconda3/envs/dw/lib/python3.9/multiprocessing/pool.py:858\u001b[0m, in \u001b[0;36mIMapIterator.next\u001b[0;34m(self, timeout)\u001b[0m\n\u001b[1;32m    856\u001b[0m     \u001b[39mself\u001b[39m\u001b[39m.\u001b[39m_pool \u001b[39m=\u001b[39m \u001b[39mNone\u001b[39;00m\n\u001b[1;32m    857\u001b[0m     \u001b[39mraise\u001b[39;00m \u001b[39mStopIteration\u001b[39;00m \u001b[39mfrom\u001b[39;00m \u001b[39mNone\u001b[39;00m\n\u001b[0;32m--> 858\u001b[0m \u001b[39mself\u001b[39;49m\u001b[39m.\u001b[39;49m_cond\u001b[39m.\u001b[39;49mwait(timeout)\n\u001b[1;32m    859\u001b[0m \u001b[39mtry\u001b[39;00m:\n\u001b[1;32m    860\u001b[0m     item \u001b[39m=\u001b[39m \u001b[39mself\u001b[39m\u001b[39m.\u001b[39m_items\u001b[39m.\u001b[39mpopleft()\n",
      "File \u001b[0;32m~/anaconda3/envs/dw/lib/python3.9/threading.py:312\u001b[0m, in \u001b[0;36mCondition.wait\u001b[0;34m(self, timeout)\u001b[0m\n\u001b[1;32m    310\u001b[0m \u001b[39mtry\u001b[39;00m:    \u001b[39m# restore state no matter what (e.g., KeyboardInterrupt)\u001b[39;00m\n\u001b[1;32m    311\u001b[0m     \u001b[39mif\u001b[39;00m timeout \u001b[39mis\u001b[39;00m \u001b[39mNone\u001b[39;00m:\n\u001b[0;32m--> 312\u001b[0m         waiter\u001b[39m.\u001b[39;49macquire()\n\u001b[1;32m    313\u001b[0m         gotit \u001b[39m=\u001b[39m \u001b[39mTrue\u001b[39;00m\n\u001b[1;32m    314\u001b[0m     \u001b[39melse\u001b[39;00m:\n",
      "\u001b[0;31mKeyboardInterrupt\u001b[0m: "
     ]
    }
   ],
   "source": [
    "for classifier in classifiers:\n",
    "    print(f'Klasifikator {classifier.__class__.__name__} sa cross-validation:')\n",
    "\n",
    "# Ovde se pomocu grida testiraju najbolji parametri za konkretni klasifikator, ima raznih\n",
    "\n",
    "    # smoothing se koristi kako bi se izbeglo da model dodeli nultu verovatnoću nekom atributu koji se nije pojavio u trening skupu podataka\n",
    "    if isinstance(classifier, NaiveBayes):\n",
    "        paramGrid = ParamGridBuilder() \\\n",
    "            .addGrid(classifier.smoothing, [0.1, 0.5, 1.0]) \\\n",
    "            .build()\n",
    "        \n",
    "    elif isinstance(classifier, DecisionTreeClassifier):\n",
    "        # MaxDepth je maksimalna dubina stabla koju dozvoljava Decision Tree algoritam\n",
    "        # MaxBins predstavlja maksimalni broj binova koji će se koristiti prilikom diskretizacije numeričkih atributa u Decision Tree algoritmu\n",
    "        paramGrid = ParamGridBuilder() \\\n",
    "            .addGrid(classifier.maxDepth, [2, 5, 10]) \\\n",
    "            .addGrid(classifier.maxBins, [10, 20, 30]) \\\n",
    "            .build()\n",
    "\n",
    "    elif isinstance(classifier, RandomForestClassifier):\n",
    "        # NumTrees je broj stabala koji će biti konstruisani u Random Forest algoritmu\n",
    "        paramGrid = ParamGridBuilder() \\\n",
    "            .addGrid(classifier.numTrees, [50, 100, 150]) \\\n",
    "            .addGrid(classifier.maxDepth, [2, 5, 10]) \\\n",
    "            .build()\n",
    "    else:\n",
    "        # regParam kontroliše jačinu regularizacije (manje vrednosti regParam smanjuju regularizaciju, dok veće vrednosti je pojačavaju), što znači da smanjuje overfitting\n",
    "        # MaxIter je maksimalni broj iteracija koje će alg. izvršiti prilikom učenja modela\n",
    "        paramGrid = ParamGridBuilder() \\\n",
    "            .addGrid(classifier.regParam, [0.01, 0.1, 1.0]) \\\n",
    "            .addGrid(classifier.maxIter, [10, 20, 30]) \\\n",
    "            .build()\n",
    "\n",
    "    crossval = CrossValidator(estimator=classifier,\n",
    "                              estimatorParamMaps=paramGrid,\n",
    "                              evaluator=BinaryClassificationEvaluator(\n",
    "                                  labelCol=\"stroke\"),\n",
    "                              numFolds=5)\n",
    "\n",
    "    cv_model = crossval.fit(dataset_df)  # kreira model\n",
    "    best_model = cv_model.bestModel  # uzima najbolji\n",
    "    predictions = best_model.transform(dataset_df)\n",
    "\n",
    "    predicted_strokes = np.array(predictions.select(\n",
    "        \"prediction\").rdd.flatMap(lambda x: x).collect())  # predikcije\n",
    "    \n",
    "    actual_strokes = np.array(predictions.select(\"stroke\").rdd.flatMap(\n",
    "        lambda x: x).collect())  # desilose\n",
    "\n",
    "    print(\n",
    "        f'Evaluacija {classifier.__class__.__name__} klasifikatora za cross-validation podelu podataka:')\n",
    "    print(classification_report(actual_strokes, predicted_strokes, zero_division=1))\n",
    "    print(\"Matrica konfuzije:\")\n",
    "    print(confusion_matrix(actual_strokes, predicted_strokes))\n",
    "\n",
    "    evaluator = BinaryClassificationEvaluator(labelCol=\"stroke\")\n",
    "    auc = evaluator.evaluate(predictions)\n",
    "    print(\"Površina ispod ROC krive (AUC):\", auc)\n",
    "    print(\"------------------------------------\")"
   ]
  }
 ],
 "metadata": {
  "kernelspec": {
   "display_name": "Python 3",
   "language": "python",
   "name": "python3"
  },
  "language_info": {
   "codemirror_mode": {
    "name": "ipython",
    "version": 3
   },
   "file_extension": ".py",
   "mimetype": "text/x-python",
   "name": "python",
   "nbconvert_exporter": "python",
   "pygments_lexer": "ipython3",
   "version": "3.9.0"
  },
  "orig_nbformat": 4,
  "vscode": {
   "interpreter": {
    "hash": "9e35676d33e03a9093a17dc7760f2b2aa4960ff6d3c0d7dc06348afdc0ca22c8"
   }
  }
 },
 "nbformat": 4,
 "nbformat_minor": 2
}
